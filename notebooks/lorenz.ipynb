{
 "cells": [
  {
   "cell_type": "markdown",
   "metadata": {},
   "source": [
    "# Lorenz Attractor"
   ]
  },
  {
   "cell_type": "code",
   "execution_count": 2,
   "metadata": {
    "collapsed": false
   },
   "outputs": [
    {
     "name": "stdout",
     "output_type": "stream",
     "text": [
      "[Plots.jl] Initializing backend: pyplot"
     ]
    },
    {
     "name": "stderr",
     "output_type": "stream",
     "text": [
      "/usr/lib64/python2.7/site-packages/matplotlib/pyplot.py:516: RuntimeWarning: More than 20 figures have been opened. Figures created through the pyplot interface (`matplotlib.pyplot.figure`) are retained until explicitly closed and may consume too much memory. (To control this warning, see the rcParam `figure.max_open_warning`).\n",
      "  max_open_warning, RuntimeWarning)\n"
     ]
    },
    {
     "name": "stdout",
     "output_type": "stream",
     "text": [
      "\n"
     ]
    },
    {
     "data": {
      "text/html": [
       "<img src=\"tmp.gif?0.03761494927613773>\" />"
      ],
      "text/plain": [
       "Plots.AnimatedGif(\"/home/tom/.julia/v0.4/ExamplePlots/notebooks/tmp.gif\")"
      ]
     },
     "execution_count": 2,
     "metadata": {},
     "output_type": "execute_result"
    },
    {
     "name": "stderr",
     "output_type": "stream",
     "text": [
      "INFO: Saved animation to /home/tom/.julia/v0.4/ExamplePlots/notebooks/tmp.gif\n"
     ]
    }
   ],
   "source": [
    "using Plots\n",
    "pyplot(size=(300,300))\n",
    "\n",
    "# initialize the attractor\n",
    "n = 3000\n",
    "dt = 0.02\n",
    "σ, ρ, β = 10., 28., 8/3\n",
    "x, y, z = 1., 1., 1.\n",
    "X, Y, Z = [x], [y], [z]\n",
    "\n",
    "# initialize a Plots animation\n",
    "anim = Animation()\n",
    "\n",
    "# process n steps\n",
    "for i=1:n\n",
    "    dx = σ*(y - x);      x += dt * dx; push!(X,x)\n",
    "    dy = x*(ρ - z) - y;  y += dt * dy; push!(Y,y)\n",
    "    dz = x*y - β*z;      z += dt * dz; push!(Z,z)\n",
    "    \n",
    "    # plot and save to the animation\n",
    "    if mod1(i,10) == 1\n",
    "        frame(anim, plot3d(X,Y,Z))\n",
    "    end\n",
    "end\n",
    "\n",
    "# build an animated gif\n",
    "gif(anim)"
   ]
  },
  {
   "cell_type": "code",
   "execution_count": null,
   "metadata": {
    "collapsed": true
   },
   "outputs": [],
   "source": []
  }
 ],
 "metadata": {
  "kernelspec": {
   "display_name": "Julia 0.4.2",
   "language": "julia",
   "name": "julia-0.4"
  },
  "language_info": {
   "file_extension": ".jl",
   "mimetype": "application/julia",
   "name": "julia",
   "version": "0.4.2"
  }
 },
 "nbformat": 4,
 "nbformat_minor": 0
}
