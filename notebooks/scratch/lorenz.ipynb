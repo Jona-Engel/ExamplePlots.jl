{
 "cells": [
  {
   "cell_type": "markdown",
   "metadata": {},
   "source": [
    "# Lorenz Attractor"
   ]
  },
  {
   "cell_type": "code",
   "execution_count": null,
   "metadata": {
    "collapsed": false
   },
   "outputs": [],
   "source": [
    "using Plots\n",
    "pyplot(size=(300,300))\n",
    "\n",
    "# initialize the attractor\n",
    "n = 3000\n",
    "dt = 0.02\n",
    "σ, ρ, β = 10., 28., 8/3\n",
    "x, y, z = 1., 1., 1.\n",
    "X, Y, Z = [x], [y], [z]\n",
    "\n",
    "# initialize a Plots animation\n",
    "anim = Animation()\n",
    "\n",
    "# process n steps\n",
    "for i=1:n\n",
    "    dx = σ*(y - x);      x += dt * dx; push!(X,x)\n",
    "    dy = x*(ρ - z) - y;  y += dt * dy; push!(Y,y)\n",
    "    dz = x*y - β*z;      z += dt * dz; push!(Z,z)\n",
    "    \n",
    "    # plot and save to the animation\n",
    "    if mod1(i,10) == 1\n",
    "        frame(anim, plot3d(X,Y,Z))\n",
    "    end\n",
    "end\n",
    "\n",
    "# build an animated gif\n",
    "gif(anim)"
   ]
  },
  {
   "cell_type": "code",
   "execution_count": null,
   "metadata": {
    "collapsed": true
   },
   "outputs": [],
   "source": []
  }
 ],
 "metadata": {
  "kernelspec": {
   "display_name": "Julia 0.4.2",
   "language": "julia",
   "name": "julia-0.4"
  },
  "language_info": {
   "file_extension": ".jl",
   "mimetype": "application/julia",
   "name": "julia",
   "version": "0.4.2"
  }
 },
 "nbformat": 4,
 "nbformat_minor": 0
}
