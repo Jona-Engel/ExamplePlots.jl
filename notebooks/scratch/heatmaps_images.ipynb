{
 "cells": [
  {
   "cell_type": "code",
   "execution_count": null,
   "metadata": {
    "collapsed": false,
    "scrolled": false
   },
   "outputs": [],
   "source": [
    "using Plots, TestImages\n",
    "pyplot(ratio=1, size=(350,300))\n",
    "RecipesBase.debug()\n",
    "img = testimage(\"lena_color_256\")"
   ]
  },
  {
   "cell_type": "code",
   "execution_count": null,
   "metadata": {
    "collapsed": false
   },
   "outputs": [],
   "source": [
    "plot(img)"
   ]
  },
  {
   "cell_type": "code",
   "execution_count": null,
   "metadata": {
    "collapsed": false
   },
   "outputs": [],
   "source": [
    "using Plots\n",
    "x=1:10\n",
    "y=[\"y$i\" for i=1:5]\n",
    "z=rand([\"A\",\"B\",\"C\"], 5, 10)\n",
    "heatmap(x,y,z)"
   ]
  },
  {
   "cell_type": "code",
   "execution_count": null,
   "metadata": {
    "collapsed": false
   },
   "outputs": [],
   "source": [
    "using Plots; pyplot(size=(300,200))\n",
    "x = y = linspace(-5,5,20)\n",
    "f(x,y) = sin(x)+cos(y)\n",
    "p1 = wireframe(x,y,f)"
   ]
  },
  {
   "cell_type": "code",
   "execution_count": null,
   "metadata": {
    "collapsed": false
   },
   "outputs": [],
   "source": [
    "p2 = surface(x,y,f)"
   ]
  },
  {
   "cell_type": "code",
   "execution_count": null,
   "metadata": {
    "collapsed": false
   },
   "outputs": [],
   "source": [
    "p3 = contour(x,y,f,fill=true)"
   ]
  },
  {
   "cell_type": "code",
   "execution_count": null,
   "metadata": {
    "collapsed": false
   },
   "outputs": [],
   "source": [
    "l = @layout [a b;c{0.1h}]\n",
    "p = plot(p1,p2,p3, layout=l, size=(700,500), cbar=false)"
   ]
  },
  {
   "cell_type": "code",
   "execution_count": null,
   "metadata": {
    "collapsed": false
   },
   "outputs": [],
   "source": [
    "plot(p, plot(rand(100)),size=(700,400))"
   ]
  },
  {
   "cell_type": "code",
   "execution_count": null,
   "metadata": {
    "collapsed": false
   },
   "outputs": [],
   "source": [
    "p1"
   ]
  },
  {
   "cell_type": "code",
   "execution_count": null,
   "metadata": {
    "collapsed": false
   },
   "outputs": [],
   "source": [
    "using Plots\n",
    "pyplot(fmt=:png)\n",
    "\n",
    "@userplot type StackHist\n",
    "    vecs::Tuple\n",
    "    StackHist(vecs::AVec...) = new(vecs)\n",
    "end\n",
    "\n",
    "@recipe function f(sh::StackHist)\n",
    "    # get one set of edges to bin with\n",
    "    alldata = vcat(sh.vecs...)\n",
    "    edges,_ = hist(alldata, get(d,:bins,default(:bins)))\n",
    "    \n",
    "    # common attributes\n",
    "    fillalpha --> 0.3    # optional override\n",
    "    seriestype := :bar  # forced override\n",
    "    \n",
    "    # for each vector, we create a series... bar chart starting at the\n",
    "    # last total height of the last series\n",
    "    lastcnts = 0\n",
    "    for v in sh.vecs\n",
    "        @series begin\n",
    "            # force the fillrange to the last heights\n",
    "            fillrange := lastcnts\n",
    "            \n",
    "            # get the new hist counts, then add to total\n",
    "            cnts = hist(v, edges)[2]\n",
    "            lastcnts = lastcnts + cnts\n",
    "            \n",
    "            # compute bar widths\n",
    "            dffs = diff(edges)\n",
    "            bar_width := 0.8dffs\n",
    "            \n",
    "            # return centers and heights... this is the input data to the series\n",
    "            centers = edges[1:end-1] + dffs\n",
    "            centers, cnts\n",
    "        end\n",
    "    end\n",
    "end"
   ]
  },
  {
   "cell_type": "code",
   "execution_count": null,
   "metadata": {
    "collapsed": false
   },
   "outputs": [],
   "source": [
    "stackhist(rand(100), rand(200), randn(100), bins=20)"
   ]
  },
  {
   "cell_type": "code",
   "execution_count": null,
   "metadata": {
    "collapsed": false
   },
   "outputs": [],
   "source": [
    "bar(rand(10),fillrange=0)"
   ]
  },
  {
   "cell_type": "code",
   "execution_count": null,
   "metadata": {
    "collapsed": false
   },
   "outputs": [],
   "source": [
    "using Plots\n",
    "pyplot(size=(400,200))\n",
    "x=1:10\n",
    "y=[\"Y_$i\" for i in 1:5]\n",
    "z=rand([\"Hello\",\"World\",\"!\"],5,10)\n",
    "heatmap(x,y,z, y_discrete_values = vcat(y, \"unused1\", \"unused2\"))"
   ]
  },
  {
   "cell_type": "code",
   "execution_count": null,
   "metadata": {
    "collapsed": false
   },
   "outputs": [],
   "source": [
    "heatmap(x,y,z, z_discrete_values = [\"Hello\",\"World\",\"!\"])"
   ]
  },
  {
   "cell_type": "code",
   "execution_count": null,
   "metadata": {
    "collapsed": false
   },
   "outputs": [],
   "source": [
    "using Plots; gr()\n",
    "set_theme(:ggplot2)\n",
    "plot(rand(10))"
   ]
  },
  {
   "cell_type": "code",
   "execution_count": null,
   "metadata": {
    "collapsed": false
   },
   "outputs": [],
   "source": [
    "using Plots\n",
    "y = rand(100,4)\n",
    "y[:,3] *= 10\n",
    "x = rand(100,4)\n",
    "x[:,2] *= 3\n",
    "plot(x, y, layout=GridLayout(2,2,widths=[0.8,0.2],heights=[0.2,0.8]), link=:both,\n",
    "        xticks=[nothing nothing :auto :auto], yticks=[:auto nothing])"
   ]
  },
  {
   "cell_type": "code",
   "execution_count": null,
   "metadata": {
    "collapsed": false
   },
   "outputs": [],
   "source": [
    "Plots.DD(current().subplots[1].attr[:xaxis].d)"
   ]
  },
  {
   "cell_type": "code",
   "execution_count": null,
   "metadata": {
    "collapsed": true
   },
   "outputs": [],
   "source": []
  },
  {
   "cell_type": "code",
   "execution_count": null,
   "metadata": {
    "collapsed": false
   },
   "outputs": [],
   "source": [
    "using Plots; pyplot\n",
    "p = plot(Any[rand(10), 10rand(10), 10rand(100), rand(100)], layout=4)"
   ]
  },
  {
   "cell_type": "code",
   "execution_count": null,
   "metadata": {
    "collapsed": false
   },
   "outputs": [],
   "source": [
    "p.subplots[2].attr[:yaxis] = p.subplots[1].attr[:yaxis]"
   ]
  },
  {
   "cell_type": "code",
   "execution_count": null,
   "metadata": {
    "collapsed": false
   },
   "outputs": [],
   "source": [
    "p"
   ]
  },
  {
   "cell_type": "code",
   "execution_count": null,
   "metadata": {
    "collapsed": false
   },
   "outputs": [],
   "source": [
    "push!(p,1,10)\n",
    "p"
   ]
  },
  {
   "cell_type": "code",
   "execution_count": null,
   "metadata": {
    "collapsed": false
   },
   "outputs": [],
   "source": [
    "p.subplots[1].attr[:yaxis][:extrema]"
   ]
  },
  {
   "cell_type": "code",
   "execution_count": null,
   "metadata": {
    "collapsed": false
   },
   "outputs": [],
   "source": [
    "p"
   ]
  },
  {
   "cell_type": "code",
   "execution_count": null,
   "metadata": {
    "collapsed": false
   },
   "outputs": [],
   "source": [
    "scatter!(256rand(100), 256rand(100), m=(10,0.3,:blue))"
   ]
  },
  {
   "cell_type": "code",
   "execution_count": null,
   "metadata": {
    "collapsed": false
   },
   "outputs": [],
   "source": [
    "n,m = size(img)\n",
    "plot(Array(img)[1:4:n, 1:4:m])"
   ]
  },
  {
   "cell_type": "code",
   "execution_count": null,
   "metadata": {
    "collapsed": true
   },
   "outputs": [],
   "source": [
    "display(current())"
   ]
  },
  {
   "cell_type": "code",
   "execution_count": null,
   "metadata": {
    "collapsed": false
   },
   "outputs": [],
   "source": [
    "typeof(img[1:8:n, 1:8:m])"
   ]
  },
  {
   "cell_type": "code",
   "execution_count": null,
   "metadata": {
    "collapsed": false
   },
   "outputs": [],
   "source": [
    "z = reshape(1:25,5,5)"
   ]
  },
  {
   "cell_type": "code",
   "execution_count": null,
   "metadata": {
    "collapsed": false
   },
   "outputs": [],
   "source": [
    "heatmap(z)"
   ]
  },
  {
   "cell_type": "code",
   "execution_count": null,
   "metadata": {
    "collapsed": false
   },
   "outputs": [],
   "source": [
    "z[1:2:5,1:2:5]"
   ]
  },
  {
   "cell_type": "code",
   "execution_count": null,
   "metadata": {
    "collapsed": false
   },
   "outputs": [],
   "source": [
    "surface(z)"
   ]
  },
  {
   "cell_type": "code",
   "execution_count": null,
   "metadata": {
    "collapsed": false
   },
   "outputs": [],
   "source": [
    "using Images\n",
    "typeof(data(img))"
   ]
  },
  {
   "cell_type": "code",
   "execution_count": null,
   "metadata": {
    "collapsed": false
   },
   "outputs": [],
   "source": [
    "raw(img)"
   ]
  },
  {
   "cell_type": "code",
   "execution_count": null,
   "metadata": {
    "collapsed": false
   },
   "outputs": [],
   "source": [
    "import PyPlot\n",
    "PyPlot.imshow(raw(img)')"
   ]
  },
  {
   "cell_type": "code",
   "execution_count": null,
   "metadata": {
    "collapsed": false
   },
   "outputs": [],
   "source": [
    "rd = permutedims(raw(img),[2,1])"
   ]
  },
  {
   "cell_type": "code",
   "execution_count": null,
   "metadata": {
    "collapsed": false
   },
   "outputs": [],
   "source": [
    "PyPlot.imshow(rd, cmap=:gray)"
   ]
  },
  {
   "cell_type": "code",
   "execution_count": null,
   "metadata": {
    "collapsed": false
   },
   "outputs": [],
   "source": []
  },
  {
   "cell_type": "code",
   "execution_count": null,
   "metadata": {
    "collapsed": false
   },
   "outputs": [],
   "source": [
    "using PlotRecipes, Plots\n",
    "plotlyjs()\n",
    "n = 10\n",
    "G = PlotRecipes.MyGraph(ones(n), Symmetric(Float64[i==j||rand()<0.7 ? 0 : 1 for i=1:n,j=1:n]))\n",
    "plot(G, arrow=0.6, m=20)"
   ]
  },
  {
   "cell_type": "code",
   "execution_count": null,
   "metadata": {
    "collapsed": false
   },
   "outputs": [],
   "source": [
    "using Plots\n",
    "plotlyjs()\n",
    "y = Float64[rand()<0.2 ? NaN : 10rand() for i=1:30]\n",
    "plot(y, arrow=5)"
   ]
  },
  {
   "cell_type": "code",
   "execution_count": null,
   "metadata": {
    "collapsed": false
   },
   "outputs": [],
   "source": [
    "using Plots; pgfplots()\n",
    "plot(rand(10), ratio=1)"
   ]
  },
  {
   "cell_type": "code",
   "execution_count": null,
   "metadata": {
    "collapsed": false
   },
   "outputs": [],
   "source": [
    "using PGFPlots\n",
    "Plots.Linear(1:10, sin(1:10), style=\"\"\"\n",
    "ybar,\n",
    "fill = green,\n",
    "   mark = +,\n",
    ",\n",
    "mark size=10\n",
    "\"\"\")"
   ]
  },
  {
   "cell_type": "code",
   "execution_count": null,
   "metadata": {
    "collapsed": false
   },
   "outputs": [],
   "source": [
    "using Plots, Distributions\n",
    "\n",
    "@recipe function f(n::Normal)\n",
    "    w = 4n.σ\n",
    "    x = linspace(n.μ-w, n.μ+w, 100)\n",
    "    fillrange --> 0\n",
    "    x, _->pdf(n,_)\n",
    "end\n",
    "\n",
    "m = 2\n",
    "s = 2\n",
    "with(alpha=0.8,xlim=(-5,5),fg=RGBA(0,0,0,0)) do\n",
    "    plot(Normal(), c=:green)\n",
    "    plot!(Normal(-m,s), c=:red)\n",
    "    plot!(Normal(m,s), c=:purple)\n",
    "end"
   ]
  },
  {
   "cell_type": "code",
   "execution_count": null,
   "metadata": {
    "collapsed": false
   },
   "outputs": [],
   "source": [
    "using Plots; pyplot()\n",
    "x,y = randn(100),randn(100)\n",
    "histogram2d(x,y)"
   ]
  },
  {
   "cell_type": "code",
   "execution_count": null,
   "metadata": {
    "collapsed": false
   },
   "outputs": [],
   "source": [
    "histogram2d(x,y, c=ColorGradient(:blues, log2(1:0.1:2).^5))"
   ]
  },
  {
   "cell_type": "code",
   "execution_count": null,
   "metadata": {
    "collapsed": true
   },
   "outputs": [],
   "source": []
  }
 ],
 "metadata": {
  "kernelspec": {
   "display_name": "Julia 0.4.4",
   "language": "julia",
   "name": "julia-0.4"
  },
  "language_info": {
   "file_extension": ".jl",
   "mimetype": "application/julia",
   "name": "julia",
   "version": "0.4.4"
  }
 },
 "nbformat": 4,
 "nbformat_minor": 0
}
