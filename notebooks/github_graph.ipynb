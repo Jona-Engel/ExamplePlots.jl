{
 "cells": [
  {
   "cell_type": "code",
   "execution_count": null,
   "metadata": {
    "collapsed": false
   },
   "outputs": [],
   "source": [
    "using Plots, PlotRecipes"
   ]
  },
  {
   "cell_type": "code",
   "execution_count": null,
   "metadata": {
    "collapsed": false
   },
   "outputs": [],
   "source": [
    "## this is a branch on my fork: tbreloff/Julia.jl\n",
    "# Pkg.checkout(\"Julia\", \"tb_github\")\n",
    "\n",
    "include(\"/home/tom/Julia.jl/src/scrape.jl\")"
   ]
  },
  {
   "cell_type": "code",
   "execution_count": null,
   "metadata": {
    "collapsed": false
   },
   "outputs": [],
   "source": [
    "using GitHub\n",
    "myauth = authenticate(\"*************************************\")"
   ]
  },
  {
   "cell_type": "code",
   "execution_count": null,
   "metadata": {
    "collapsed": false
   },
   "outputs": [],
   "source": [
    "using DataFrames\n",
    "df = readtable(\"/home/tom/Julia.jl/db.csv\", header=false, names=[:group,:subgroup,:name,:url,:desc])\n",
    "head(df)"
   ]
  },
  {
   "cell_type": "code",
   "execution_count": null,
   "metadata": {
    "collapsed": false
   },
   "outputs": [],
   "source": [
    "function get_url_from_df(df, i)\n",
    "    url = df[i,:url]\n",
    "    url = join(split(url,\"/\")[end-1:end], \"/\")\n",
    "end"
   ]
  },
  {
   "cell_type": "code",
   "execution_count": null,
   "metadata": {
    "collapsed": false
   },
   "outputs": [],
   "source": [
    "# returns (users,contributions)\n",
    "function get_contributions(url)\n",
    "    c = contributors(url, auth=myauth)[1]\n",
    "    Plots.unzip([(get(d[\"contributor\"].login), d[\"contributions\"]) for d in c])\n",
    "end\n",
    "\n",
    "function get_stargazers(url)\n",
    "    s = stargazers(url, auth=myauth)[1]\n",
    "    [get(o.login) for o in s]\n",
    "end"
   ]
  },
  {
   "cell_type": "code",
   "execution_count": null,
   "metadata": {
    "collapsed": false
   },
   "outputs": [],
   "source": [
    "url = \"tbreloff/Plots.jl\"\n",
    "users, contributions = get_contributions(url)"
   ]
  },
  {
   "cell_type": "code",
   "execution_count": null,
   "metadata": {
    "collapsed": false
   },
   "outputs": [],
   "source": [
    "s = stargazers(url, auth=myauth)"
   ]
  },
  {
   "cell_type": "code",
   "execution_count": null,
   "metadata": {
    "collapsed": false
   },
   "outputs": [],
   "source": [
    "get_stargazers(url)"
   ]
  },
  {
   "cell_type": "code",
   "execution_count": null,
   "metadata": {
    "collapsed": false
   },
   "outputs": [],
   "source": [
    "function build_contributors_dataframe(df)\n",
    "    contribs = DataFrame()\n",
    "    for i = 1:4 #size(df,1)\n",
    "        url = get_url_from_df(df,i)\n",
    "        try\n",
    "            info(\"trying $url\")\n",
    "            us,cs = get_contributions(url)\n",
    "            n = length(us)\n",
    "            contribs = vcat(contribs, DataFrame(\n",
    "                url = fill(url,n),\n",
    "                users=us,\n",
    "                contribs=cs,\n",
    "                group = fill(df[i,:group],n),\n",
    "                subgroup = fill(df[i,:subgroup],n)\n",
    "            ))\n",
    "            info(\"success... n=$n\")\n",
    "        end\n",
    "    end\n",
    "    contribs\n",
    "end"
   ]
  },
  {
   "cell_type": "code",
   "execution_count": null,
   "metadata": {
    "collapsed": false
   },
   "outputs": [],
   "source": [
    "contribs = build_contributors_dataframe(df)"
   ]
  },
  {
   "cell_type": "code",
   "execution_count": null,
   "metadata": {
    "collapsed": false
   },
   "outputs": [],
   "source": [
    "writetable(\"/home/tom/Julia.jl/contributors.csv\", contribs)"
   ]
  },
  {
   "cell_type": "code",
   "execution_count": null,
   "metadata": {
    "collapsed": false
   },
   "outputs": [],
   "source": []
  },
  {
   "cell_type": "code",
   "execution_count": null,
   "metadata": {
    "collapsed": false
   },
   "outputs": [],
   "source": [
    "function build_stargazers_dataframe(df)\n",
    "    sg = DataFrame()\n",
    "    for i = 1:4 #size(df,1)\n",
    "        url = get_url_from_df(df,i)\n",
    "        try\n",
    "            info(\"trying $url\")\n",
    "            gazers = get_stargazers(url)\n",
    "            n = length(gazers)\n",
    "            repo = df[i,:name][1:end-3]\n",
    "            sg = vcat(sg, DataFrame(\n",
    "                repo = fill(repo,n),\n",
    "                url = fill(url,n),\n",
    "                gazer = gazers,\n",
    "                group = fill(df[i,:group],n),\n",
    "                subgroup = fill(df[i,:subgroup],n)\n",
    "            ))\n",
    "            info(\"success... n=$n\")\n",
    "        catch err\n",
    "            @show err\n",
    "        end\n",
    "    end\n",
    "    sg\n",
    "end"
   ]
  },
  {
   "cell_type": "code",
   "execution_count": null,
   "metadata": {
    "collapsed": false
   },
   "outputs": [],
   "source": [
    "sg = build_stargazers_dataframe(df)"
   ]
  },
  {
   "cell_type": "code",
   "execution_count": null,
   "metadata": {
    "collapsed": true
   },
   "outputs": [],
   "source": [
    "writetable(\"/home/tom/Julia.jl/stargazers.csv\", sg)"
   ]
  },
  {
   "cell_type": "code",
   "execution_count": null,
   "metadata": {
    "collapsed": true
   },
   "outputs": [],
   "source": []
  },
  {
   "cell_type": "code",
   "execution_count": null,
   "metadata": {
    "collapsed": false
   },
   "outputs": [],
   "source": [
    "using Plots\n",
    "zv = Plots.get_zvalues(10)\n",
    "# zv = vcat(zv[1], zv[3:end])\n",
    "zv = 360*zv+15\n",
    "RGB[HSL(h,1,0.65) for h=zv]"
   ]
  },
  {
   "cell_type": "code",
   "execution_count": null,
   "metadata": {
    "collapsed": false
   },
   "outputs": [],
   "source": [
    "# this is the default Plots palette\n",
    "map(RGB, Plots.get_color_palette(:auto, colorant\"gray\", 10))"
   ]
  },
  {
   "cell_type": "code",
   "execution_count": null,
   "metadata": {
    "collapsed": true
   },
   "outputs": [],
   "source": []
  }
 ],
 "metadata": {
  "kernelspec": {
   "display_name": "Julia 0.4.4",
   "language": "julia",
   "name": "julia-0.4"
  },
  "language_info": {
   "file_extension": ".jl",
   "mimetype": "application/julia",
   "name": "julia",
   "version": "0.4.4"
  }
 },
 "nbformat": 4,
 "nbformat_minor": 0
}
