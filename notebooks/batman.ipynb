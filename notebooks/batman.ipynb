{
 "cells": [
  {
   "cell_type": "code",
   "execution_count": null,
   "metadata": {
    "collapsed": false
   },
   "outputs": [],
   "source": [
    "using Plots\n",
    "gadfly(leg = false, grid = false, xticks = nothing, yticks = nothing)\n",
    "\n",
    "function make_batman()\n",
    "    p = P2[(0,0), (0.5, 0.2), (1, 0), (1,2),  (0.3,1.2), (0.2,2), (0,1.7)]\n",
    "    m = P2[(p[i]+p[i+1])/2 for i=1:length(p)-1]\n",
    "    m += P2[(0.2, 1), (0.4, 1), (2, 0), (0.5, -0.6), (0,0), (0,-0.15)]\n",
    "\n",
    "    pts = P2[]\n",
    "    for (i,mi) in enumerate(m)\n",
    "        append!(pts, curve_points(BezierCurve(P2[p[i], m[i], p[i+1]])))\n",
    "    end\n",
    "    x, y = Plots.unzip(pts)\n",
    "    Shape(vcat(x, -reverse(x)), vcat(y, reverse(y)))\n",
    "end\n",
    "plot(make_batman())"
   ]
  },
  {
   "cell_type": "code",
   "execution_count": null,
   "metadata": {
    "collapsed": false
   },
   "outputs": [],
   "source": [
    "# background and limits\n",
    "plt = plot(bg = :black, xlim = (0.1,0.9), ylim = (0.2,1.5))"
   ]
  },
  {
   "cell_type": "code",
   "execution_count": null,
   "metadata": {
    "collapsed": false
   },
   "outputs": [],
   "source": [
    "# create an ellipse in the sky\n",
    "pts = Plots.partialcircle(0,2π,100,0.1)\n",
    "x, y = Plots.unzip(pts)\n",
    "x = 1.5x + 0.7\n",
    "y += 1.3\n",
    "pts = collect(zip(x, y))\n",
    "\n",
    "# beam\n",
    "beam = Shape([(0.3, 0.0), pts[95], pts[50]])\n",
    "plot!(beam, m=(:yellow,0.3))\n",
    "\n",
    "# spotlight\n",
    "plot!(Shape(x,y), c=:yellow)"
   ]
  },
  {
   "cell_type": "code",
   "execution_count": null,
   "metadata": {
    "collapsed": false
   },
   "outputs": [],
   "source": [
    "# buildings\n",
    "rect(w, h, x, y) = Shape(x + [0,w,w,0], y + [0,0,h,h])\n",
    "gray(pct) = RGB(pct,pct,pct)\n",
    "\n",
    "for i=1:50\n",
    "    shape = rect(0.1rand()+0.05, rand(), rand(), 0)\n",
    "    plot!(shape, c = gray(0.3rand()+0.3))\n",
    "end\n",
    "plt"
   ]
  },
  {
   "cell_type": "code",
   "execution_count": null,
   "metadata": {
    "collapsed": false
   },
   "outputs": [],
   "source": [
    "# Holy plotting, Batman!\n",
    "batman = Plots.scale(make_batman(), 0.07)\n",
    "batman = Plots.translate(batman, 0.7, 1.23)\n",
    "plot!(batman, marker = (:black, stroke(0)))"
   ]
  },
  {
   "cell_type": "code",
   "execution_count": null,
   "metadata": {
    "collapsed": false
   },
   "outputs": [],
   "source": [
    "png(Pkg.dir(\"ExamplePlots\", \"docs\", \"examples\", \"img\", \"batman\"))"
   ]
  },
  {
   "cell_type": "code",
   "execution_count": null,
   "metadata": {
    "collapsed": true
   },
   "outputs": [],
   "source": []
  }
 ],
 "metadata": {
  "kernelspec": {
   "display_name": "Julia 0.4.1",
   "language": "julia",
   "name": "julia-0.4"
  },
  "language_info": {
   "file_extension": ".jl",
   "mimetype": "application/julia",
   "name": "julia",
   "version": "0.4.3"
  }
 },
 "nbformat": 4,
 "nbformat_minor": 0
}
