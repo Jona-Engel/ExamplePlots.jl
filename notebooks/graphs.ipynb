{
 "cells": [
  {
   "cell_type": "code",
   "execution_count": null,
   "metadata": {
    "collapsed": true
   },
   "outputs": [],
   "source": [
    "Pkg.add(\"Graphs\")\n",
    "Pkg.add(\"GraphLayout\")"
   ]
  },
  {
   "cell_type": "code",
   "execution_count": 12,
   "metadata": {
    "collapsed": true
   },
   "outputs": [],
   "source": [
    "using Plots\n",
    "pyplot(size=(500,300))\n",
    "import Graphs, GraphLayout"
   ]
  },
  {
   "cell_type": "code",
   "execution_count": 70,
   "metadata": {
    "collapsed": false
   },
   "outputs": [
    {
     "data": {
      "text/plain": [
       "Directed Graph (5 vertices, 5 edges)"
      ]
     },
     "execution_count": 70,
     "metadata": {},
     "output_type": "execute_result"
    }
   ],
   "source": [
    "n = 5\n",
    "g = Graphs.simple_graph(n)\n",
    "for (i,j) in [(1,2),(2,3),(1,3),(2,4),(3,5)]\n",
    "    Graphs.add_edge!(g, i, j)\n",
    "end\n",
    "g"
   ]
  },
  {
   "cell_type": "code",
   "execution_count": 71,
   "metadata": {
    "collapsed": false
   },
   "outputs": [
    {
     "data": {
      "text/plain": [
       "5x5 Array{Bool,2}:\n",
       " false   true   true  false  false\n",
       " false  false   true   true  false\n",
       " false  false  false  false   true\n",
       " false  false  false  false  false\n",
       " false  false  false  false  false"
      ]
     },
     "execution_count": 71,
     "metadata": {},
     "output_type": "execute_result"
    }
   ],
   "source": [
    "am = Graphs.adjacency_matrix(g)"
   ]
  },
  {
   "cell_type": "code",
   "execution_count": 72,
   "metadata": {
    "collapsed": false
   },
   "outputs": [
    {
     "data": {
      "text/plain": [
       "([-1.0,-0.3402313606650742,0.16164841033943,-0.4269557453303815,1.0],[0.2098895084460488,-0.2904015471894834,0.41302568893816627,-1.0,1.0])"
      ]
     },
     "execution_count": 72,
     "metadata": {},
     "output_type": "execute_result"
    }
   ],
   "source": [
    "x, y = GraphLayout.layout_spring_adj(am)"
   ]
  },
  {
   "cell_type": "code",
   "execution_count": 62,
   "metadata": {
    "collapsed": false
   },
   "outputs": [
    {
     "data": {
      "text/plain": [
       "graph_edge_lists (generic function with 1 method)"
      ]
     },
     "execution_count": 62,
     "metadata": {},
     "output_type": "execute_result"
    }
   ],
   "source": [
    "function graph_edge_lists(x, y)\n",
    "    edgex, edgey = zeros(0), zeros(0)\n",
    "    for i=1:n, j=1:n\n",
    "        if am[i,j]\n",
    "            append!(edgex, [x[i], x[j], NaN])\n",
    "            append!(edgey, [y[i], y[j], NaN])\n",
    "        end\n",
    "    end\n",
    "    edgex, edgey\n",
    "end"
   ]
  },
  {
   "cell_type": "code",
   "execution_count": 73,
   "metadata": {
    "collapsed": false
   },
   "outputs": [
    {
     "name": "stdout",
     "output_type": "stream",
     "text": [
      "edgex = [-1.0,-0.3402313606650742,NaN,-1.0,0.16164841033943,NaN,-0.3402313606650742,0.16164841033943,NaN,-0.3402313606650742,-0.4269557453303815,NaN,0.16164841033943,1.0,NaN]\n",
      "edgey = [0.2098895084460488,-0.2904015471894834,NaN,0.2098895084460488,0.41302568893816627,NaN,-0.2904015471894834,0.41302568893816627,NaN,-0.2904015471894834,-1.0,NaN,0.41302568893816627,1.0,NaN]\n"
     ]
    }
   ],
   "source": [
    "edgex, edgey = graph_edge_lists(x, y)\n",
    "@show edgex edgey;"
   ]
  },
  {
   "cell_type": "code",
   "execution_count": 76,
   "metadata": {
    "collapsed": false
   },
   "outputs": [
    {
     "data": {
      "image/png": "[encoded data removed]",
      "text/plain": [
       "Plot{Plots.PyPlotPackage() n=2}"
      ]
     },
     "execution_count": 76,
     "metadata": {},
     "output_type": "execute_result"
    }
   ],
   "source": [
    "with(leg=:top, grid=false) do\n",
    "    plot(edgex, edgey, lab=\"edges\")\n",
    "    scatter!(x, y, m=20, lab=\"nodes\")\n",
    "end"
   ]
  },
  {
   "cell_type": "code",
   "execution_count": null,
   "metadata": {
    "collapsed": true
   },
   "outputs": [],
   "source": []
  }
 ],
 "metadata": {
  "kernelspec": {
   "display_name": "Julia 0.4.2",
   "language": "julia",
   "name": "julia-0.4"
  },
  "language_info": {
   "file_extension": ".jl",
   "mimetype": "application/julia",
   "name": "julia",
   "version": "0.4.2"
  }
 },
 "nbformat": 4,
 "nbformat_minor": 0
}
