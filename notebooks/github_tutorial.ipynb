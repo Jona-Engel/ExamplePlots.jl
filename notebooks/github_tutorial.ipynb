{
 "cells": [
  {
   "cell_type": "markdown",
   "metadata": {},
   "source": [
    "# Visualizing the Julia Community with Plots"
   ]
  },
  {
   "cell_type": "markdown",
   "metadata": {},
   "source": [
    "In this tutorial, we'll load in some repository data for Julia packages which was scraped from https://github.com/svaksha/Julia.jl and queried through the excellent wrapped API: https://github.com/JuliaWeb/GitHub.jl."
   ]
  },
  {
   "cell_type": "code",
   "execution_count": null,
   "metadata": {
    "collapsed": false
   },
   "outputs": [],
   "source": [
    "# # to load the data, you'll need to check out my forked repo:\n",
    "# Pkg.clone(\"https://github.com/tbreloff/Julia.jl\")\n",
    "# Pkg.checkout(\"Julia\", \"tb_github\")\n",
    "\n",
    "# # and you'll want to install Plots\n",
    "# Pkg.add(\"Plots\")\n",
    "# Pkg.checkout(\"Plots\")\n",
    "# Pkg.add(\"PyPlot\")\n",
    "# Pkg.add(\"PlotRecipes\")\n",
    "# Pkg.checkout(\"PlotRecipes\")"
   ]
  },
  {
   "cell_type": "code",
   "execution_count": null,
   "metadata": {
    "collapsed": true
   },
   "outputs": [],
   "source": []
  },
  {
   "cell_type": "code",
   "execution_count": null,
   "metadata": {
    "collapsed": false
   },
   "outputs": [],
   "source": [
    "# setup Plots and PlotRecipes (graphs and other cool stuff)\n",
    "using Plots, PlotRecipes\n",
    "pyplot(size=(700,500), leg=false, guidefont=font(6), titlefont=font(9))"
   ]
  },
  {
   "cell_type": "markdown",
   "metadata": {
    "collapsed": true
   },
   "source": [
    "### First steps... load and preprocess the data"
   ]
  },
  {
   "cell_type": "code",
   "execution_count": null,
   "metadata": {
    "collapsed": false
   },
   "outputs": [],
   "source": [
    "# load in the tables\n",
    "using DataFrames\n",
    "stardf = readtable(Pkg.dir(\"Julia\",\"stargazers.csv\"))\n",
    "contribdf = readtable(Pkg.dir(\"Julia\",\"contributors.csv\"))\n",
    "\n",
    "# a helper method to extract lists from strings\n",
    "splitlist(s) = filter(str -> str != \"\", split(s[6:end-3], \",\"))"
   ]
  },
  {
   "cell_type": "code",
   "execution_count": null,
   "metadata": {
    "collapsed": false
   },
   "outputs": [],
   "source": [
    "# count the stargazers\n",
    "starcounts = map(gazers -> length(splitlist(gazers)), stardf[:gazers]);\n",
    "sum(starcounts)"
   ]
  },
  {
   "cell_type": "code",
   "execution_count": null,
   "metadata": {
    "collapsed": false
   },
   "outputs": [],
   "source": [
    "# Track the number of stars per repo using a Dict\n",
    "starmap = Dict()\n",
    "for (repo,cnt) in zip(stardf[:repo], starcounts)\n",
    "    starmap[repo] = cnt\n",
    "end\n",
    "length(starmap)"
   ]
  },
  {
   "cell_type": "code",
   "execution_count": null,
   "metadata": {
    "collapsed": false
   },
   "outputs": [],
   "source": [
    "# This is horribly messy.  You don't need to know the details, just that we're\n",
    "# going to assign package contributors a \"Star Value\" score, which is just\n",
    "# a percentage of the stars on a repo assigned by proportion of number of commits.\n",
    "userstars = Dict{UTF8String,Float64}()\n",
    "for i=1:size(contribdf,1)\n",
    "    # extract the package name\n",
    "    repo = split(contribdf[i,:url], \"/\")[end]\n",
    "    repo[end-2:end] == \".jl\" || continue\n",
    "    repo = repo[1:end-3]\n",
    "    \n",
    "    # get a list of users (contributors) and the number of contributions\n",
    "    users = splitlist(contribdf[i,:users])\n",
    "    nums = splitlist(contribdf[i,:contribs])\n",
    "    isempty(nums) && continue\n",
    "    ncontribs = [parse(Int,c) for c in nums]\n",
    "    \n",
    "    # assign the stars to users\n",
    "    pct = ncontribs ./ sum(ncontribs)\n",
    "    stars = get(starmap, repo, 0)\n",
    "    pctstars = stars * pct\n",
    "    for (i,user) in enumerate(users)\n",
    "        userval = get(userstars, user, 0.0)\n",
    "        userstars[user] = userval + pctstars[i]\n",
    "    end\n",
    "end\n",
    "\n",
    "# remove if too small\n",
    "filter!((k,v) -> v>=1, userstars)"
   ]
  },
  {
   "cell_type": "code",
   "execution_count": null,
   "metadata": {
    "collapsed": false
   },
   "outputs": [],
   "source": [
    "# what does this data look like?\n",
    "vals = collect(values(userstars))\n",
    "plot(\n",
    "    histogram(vals),\n",
    "    histogram(vals, bins=500, xaxis=(:log,(1,Inf))),\n",
    "    scatter(sort(vals), alpha=0.1, yscale=:log),\n",
    "    layout = @layout [a b; c{0.7h}]\n",
    ")"
   ]
  },
  {
   "cell_type": "code",
   "execution_count": null,
   "metadata": {
    "collapsed": false
   },
   "outputs": [],
   "source": [
    "# Gadfly and IJulia didn't make it onto the list because of formatting issues in Julia.jl\n",
    "# Gotta give credit to Daniel and Steven!\n",
    "userstars[\"dcjones\"] += 450\n",
    "userstars[\"stevengj\"] += 400"
   ]
  },
  {
   "cell_type": "code",
   "execution_count": null,
   "metadata": {
    "collapsed": false
   },
   "outputs": [],
   "source": [
    "# get the list of users and calculated star value\n",
    "users, starvalues = collect(keys(userstars)), collect(values(userstars))"
   ]
  },
  {
   "cell_type": "code",
   "execution_count": null,
   "metadata": {
    "collapsed": false
   },
   "outputs": [],
   "source": [
    "# Looking at the highest values, we'll use series annotations to label datapoints.\n",
    "# Note how the `text` method takes a string and an arbitrarily ordered list of font attributes.\n",
    "topidx = sortperm(starvalues, rev=true)[1:50]\n",
    "anns = [text(\"$(users[i]): $(round(Int,starvalues[i]))\", round(Int, 2+0.4sqrt(starvalues[i]))) for i=topidx]\n",
    "\n",
    "# We cycle through x values 1-4 with invisible markers.  We use the `yaxis` \"magic arg\" which takes values in any order.\n",
    "scatter(1:4, starvalues[topidx], series_annotations=anns, xlims=(0.5,4.5), yaxis =(:log,\"Star Value\",(NaN,1000)), alpha=0)"
   ]
  },
  {
   "cell_type": "code",
   "execution_count": null,
   "metadata": {
    "collapsed": false
   },
   "outputs": [],
   "source": [
    "# grab some table columns\n",
    "groups, subgroups, repos = stardf[:group], stardf[:subgroup], stardf[:repo];\n",
    "groupnames = sort(unique(groups))'\n",
    "N = length(groupnames)\n",
    "\n",
    "# view a grid of histograms, each group in its own subplot\n",
    "p = histogram(repos, starcounts, group=groups, layout=N, marker=(6,0.2))"
   ]
  },
  {
   "cell_type": "code",
   "execution_count": null,
   "metadata": {
    "collapsed": false
   },
   "outputs": [],
   "source": [
    "# This could look better.  Give titles, remove tick labels, and link all the x and y axes.\n",
    "# Note: xlink/ylink take a list of subplot indices which a subplot should link axes with.\n",
    "#       Since it's a vector-type, it applies to ALL the subplots\n",
    "plot!(title = groupnames, xlims=(0,100), ylink = 1:N, ticks=nothing, bins=4)"
   ]
  },
  {
   "cell_type": "code",
   "execution_count": null,
   "metadata": {
    "collapsed": false
   },
   "outputs": [],
   "source": [
    "# Not yet an official feature, filter to only the AI group, and boxplot by subgroups\n",
    "groupfilter(gname) = filter(i -> groups[i] == gname, 1:length(groups))\n",
    "boxplot(subgroups, starcounts, markersize = 2, idxfilter=groupfilter(\"AI\"))"
   ]
  },
  {
   "cell_type": "code",
   "execution_count": null,
   "metadata": {
    "collapsed": false
   },
   "outputs": [],
   "source": [
    "# Make it easier to see\n",
    "plot!(ylims=(0,100), xrot=90)"
   ]
  },
  {
   "cell_type": "code",
   "execution_count": null,
   "metadata": {
    "collapsed": true
   },
   "outputs": [],
   "source": []
  },
  {
   "cell_type": "code",
   "execution_count": null,
   "metadata": {
    "collapsed": false
   },
   "outputs": [],
   "source": [
    "# cycling inputs, series annotations\n",
    "# Similar to the contributors above, view the \n",
    "n = 50\n",
    "rng = sortperm(starcounts, rev=true)[1:50]\n",
    "plot(1:4, starcounts[rng], xlim=(0,5), w=0, series_annotations=repos[rng], yscale=:log2)"
   ]
  },
  {
   "cell_type": "code",
   "execution_count": null,
   "metadata": {
    "collapsed": false
   },
   "outputs": [],
   "source": [
    "# PlotText construction\n",
    "text(\"Hi\",10)"
   ]
  },
  {
   "cell_type": "code",
   "execution_count": null,
   "metadata": {
    "collapsed": false
   },
   "outputs": [],
   "source": [
    "# text attributes\n",
    "idx = findfirst(repos, \"Plots\")\n",
    "anns = [repo == \"Plots\" ? text(repo,40,:red) : text(repo,8,RGBA(0,0,0,0.3)) for repo in repos[rng]]\n",
    "plot(1:4, starcounts[rng], xlim=(0,5), w=0, yscale=:log2, series_annotations=anns)"
   ]
  },
  {
   "cell_type": "code",
   "execution_count": null,
   "metadata": {
    "collapsed": true
   },
   "outputs": [],
   "source": []
  },
  {
   "cell_type": "code",
   "execution_count": null,
   "metadata": {
    "collapsed": false
   },
   "outputs": [],
   "source": [
    "# Lets rewrite this as a series recipe\n",
    "@recipe function f(::Type{Val{:annotations}}, x, y, z)\n",
    "    seriestype := :scatter\n",
    "    yscale := :log2\n",
    "    markeralpha := 0\n",
    "    xlims := (0.5,4.5)\n",
    "    series_annotations := x\n",
    "    x := 1:4\n",
    "    ()\n",
    "end\n",
    "@shorthands annotations\n",
    "\n",
    "annotations(repos[rng], starcounts[rng])"
   ]
  },
  {
   "cell_type": "code",
   "execution_count": null,
   "metadata": {
    "collapsed": true
   },
   "outputs": [],
   "source": []
  }
 ],
 "metadata": {
  "kernelspec": {
   "display_name": "Julia 0.4.3",
   "language": "julia",
   "name": "julia-0.4"
  },
  "language_info": {
   "file_extension": ".jl",
   "mimetype": "application/julia",
   "name": "julia",
   "version": "0.4.5"
  }
 },
 "nbformat": 4,
 "nbformat_minor": 0
}
