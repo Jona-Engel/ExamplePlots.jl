{
 "cells": [
  {
   "cell_type": "code",
   "execution_count": null,
   "metadata": {
    "collapsed": false
   },
   "outputs": [],
   "source": [
    "using Plots; immerse()\n",
    "default(size=(500,300))\n",
    "x = linspace(0,10,100)\n",
    "y = x / 2\n",
    "plot(x, y, (x,y) -> sin(x)+cos(y), nlevels=10)"
   ]
  },
  {
   "cell_type": "code",
   "execution_count": null,
   "metadata": {
    "collapsed": false
   },
   "outputs": [],
   "source": [
    "using Plots; pyplot()\n",
    "default(size=(500,300))\n",
    "x = linspace(0,10,100)\n",
    "y = x / 2\n",
    "plot(y, x, (x,y) -> sin(y)+cos(x), nlevels=10, w=4, size=(600,300))"
   ]
  },
  {
   "cell_type": "code",
   "execution_count": null,
   "metadata": {
    "collapsed": false
   },
   "outputs": [],
   "source": [
    "plot(x, y, (x,y) -> sin(x)+cos(y), nlevels=10, fill=true, c=ColorGradient(:heat,alpha=0.5))"
   ]
  },
  {
   "cell_type": "code",
   "execution_count": null,
   "metadata": {
    "collapsed": false
   },
   "outputs": [],
   "source": [
    "Vector[zeros(3), ones(3)]"
   ]
  },
  {
   "cell_type": "code",
   "execution_count": null,
   "metadata": {
    "collapsed": true
   },
   "outputs": [],
   "source": []
  },
  {
   "cell_type": "code",
   "execution_count": null,
   "metadata": {
    "collapsed": false
   },
   "outputs": [],
   "source": [
    "using Plots; qwt()\n",
    "subplot(Vector[zeros(3), ones(3)],n=2)"
   ]
  },
  {
   "cell_type": "code",
   "execution_count": null,
   "metadata": {
    "collapsed": false
   },
   "outputs": [],
   "source": [
    "sp = current()\n",
    "p = sp.plts[2]\n",
    "Plots.convertSeriesIndex(p, 2)\n",
    "sp.initargs"
   ]
  },
  {
   "cell_type": "code",
   "execution_count": null,
   "metadata": {
    "collapsed": false
   },
   "outputs": [],
   "source": [
    "push!(current().plts[1], rand(2));"
   ]
  },
  {
   "cell_type": "code",
   "execution_count": null,
   "metadata": {
    "collapsed": false
   },
   "outputs": [],
   "source": [
    "using Plots\n",
    "x = [\"x1\", \"x2\"]\n",
    "y = [0.2, 0.7]\n",
    "bar(x, y)"
   ]
  },
  {
   "cell_type": "code",
   "execution_count": null,
   "metadata": {
    "collapsed": false
   },
   "outputs": [],
   "source": [
    "using Plots; using Compose\n",
    "p1 = plot(rand(10))\n",
    "p2 = scatter(rand(100))\n",
    "compose(context(),\n",
    "    (context(0.6,0,0.4,0.4), Gadfly.render(p2.o[2])),\n",
    "    (context(0,0,1,1), Gadfly.render(p1.o[2])))"
   ]
  },
  {
   "cell_type": "code",
   "execution_count": null,
   "metadata": {
    "collapsed": false
   },
   "outputs": [],
   "source": []
  },
  {
   "cell_type": "code",
   "execution_count": null,
   "metadata": {
    "collapsed": false
   },
   "outputs": [],
   "source": []
  },
  {
   "cell_type": "code",
   "execution_count": null,
   "metadata": {
    "collapsed": false
   },
   "outputs": [],
   "source": [
    "using Plots\n",
    "import Contour\n",
    "default(size=(500,300))"
   ]
  },
  {
   "cell_type": "code",
   "execution_count": null,
   "metadata": {
    "collapsed": false
   },
   "outputs": [],
   "source": []
  },
  {
   "cell_type": "code",
   "execution_count": null,
   "metadata": {
    "collapsed": false
   },
   "outputs": [],
   "source": [
    "n = 100\n",
    "x = sort(randn(n)); y = sort(randn(n))\n",
    "cs = Contour.contours(x, y, x * y', 5)\n",
    "@show typeof(cs) length(cs)\n",
    "#xys = [Contour.coordinates(c.lines) for c in cs]\n",
    "for clevel in cs\n",
    "    @show length(clevel.lines)\n",
    "    #for (x,y) in Contour.coordinates(clevel.lines[1])\n",
    "    #    @show x y\n",
    "    #end\n",
    "end"
   ]
  },
  {
   "cell_type": "code",
   "execution_count": null,
   "metadata": {
    "collapsed": false
   },
   "outputs": [],
   "source": [
    "x, y = Contour.coordinates(cs[2].lines[2])\n",
    "@show x y\n",
    "plot(x,y)"
   ]
  },
  {
   "cell_type": "code",
   "execution_count": null,
   "metadata": {
    "collapsed": false
   },
   "outputs": [],
   "source": [
    "Pkg.add(\"GeometricalPredicates\")\n",
    "Pkg.clone(\"https://github.com/JuliaGeometry/VoronoiDelaunay.jl\")\n",
    "Pkg.add(\"Contour\")"
   ]
  },
  {
   "cell_type": "code",
   "execution_count": null,
   "metadata": {
    "collapsed": false
   },
   "outputs": [],
   "source": [
    "using Plots; gadfly()\n",
    "default(size=(500,300))\n",
    "n = 100\n",
    "srand(123)\n",
    "x = randn(n)*3\n",
    "y = randn(n)*3\n",
    "z = Float64[sin(x[i]) + cos(y[i]) for i in 1:n]\n",
    "scatter(x,y,z=z,c=:heat)"
   ]
  },
  {
   "cell_type": "code",
   "execution_count": null,
   "metadata": {
    "collapsed": false
   },
   "outputs": [],
   "source": [
    "using VoronoiDelaunay\n",
    "tess = DelaunayTessellation(n)\n",
    "tmin, tmax = min_coord, max_coord\n",
    "twidth = tmax - tmin\n",
    "function squash(a)\n",
    "    amin, amax = extrema(a)\n",
    "    v = similar(a)\n",
    "    for i in eachindex(a)\n",
    "        v[i] = tmin + twidth * (a[i] - amin) / (amax - amin)\n",
    "    end\n",
    "    v\n",
    "end\n",
    "function zippoints(x, y)\n",
    "    x, y = squash(x), squash(y)\n",
    "    Point2D[Point(x[i], y[i]) for i in eachindex(x)]\n",
    "end\n",
    "function zippoints(x, y, z)\n",
    "    x, y, z = squash(x), squash(y), squash(z)\n",
    "    Point3D[Point(x[i], y[i], z[i]) for i in eachindex(x)]\n",
    "end"
   ]
  },
  {
   "cell_type": "code",
   "execution_count": null,
   "metadata": {
    "collapsed": false
   },
   "outputs": [],
   "source": [
    "a = zippoints(x, y)\n",
    "push!(tess, a)"
   ]
  },
  {
   "cell_type": "code",
   "execution_count": null,
   "metadata": {
    "collapsed": false
   },
   "outputs": [],
   "source": [
    "for tri in tess\n",
    "    println(tri)\n",
    "end"
   ]
  },
  {
   "cell_type": "code",
   "execution_count": null,
   "metadata": {
    "collapsed": true
   },
   "outputs": [],
   "source": [
    "tess"
   ]
  },
  {
   "cell_type": "code",
   "execution_count": null,
   "metadata": {
    "collapsed": true
   },
   "outputs": [],
   "source": []
  }
 ],
 "metadata": {
  "kernelspec": {
   "display_name": "Julia 0.4.0",
   "language": "julia",
   "name": "julia-0.4"
  },
  "language_info": {
   "file_extension": ".jl",
   "mimetype": "application/julia",
   "name": "julia",
   "version": "0.4.0"
  }
 },
 "nbformat": 4,
 "nbformat_minor": 0
}
