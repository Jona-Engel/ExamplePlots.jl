{
 "cells": [
  {
   "cell_type": "code",
   "execution_count": null,
   "metadata": {
    "collapsed": false,
    "scrolled": false
   },
   "outputs": [],
   "source": [
    "# ENV[\"MPLBACKEND\"] = \"Agg\"\n",
    "\n",
    "using Plots, DataFrames, OnlineAI\n",
    "\n",
    "pyplot()\n",
    "default(size=(500,300))\n",
    "\n",
    "# load the table\n",
    "df = readtable(joinpath(Pkg.dir(\"ExamplePlots\"), \"examples\", \n",
    "                \"meetup\", \"winequality-white.csv\"), separator=';')\n",
    "\n",
    "M = Array(df)\n",
    "df[2,:]"
   ]
  },
  {
   "cell_type": "code",
   "execution_count": null,
   "metadata": {
    "collapsed": false
   },
   "outputs": [],
   "source": [
    "sp = subplot(M, n=ncols(M), lt=:hist, size=(1000,900), title=names(df)')\n",
    "\n",
    "# sp.o.fig[:subplots_adjust](hspace=.5); sp"
   ]
  },
  {
   "cell_type": "code",
   "execution_count": null,
   "metadata": {
    "collapsed": false
   },
   "outputs": [],
   "source": [
    "# extract the most correlated variables to wine quality\n",
    "C = cor(M)\n",
    "indices = sortperm(abs(C[1:end-1, end]), rev=true)\n",
    "indices = sort(indices[1:6])\n",
    "nms = names(df)[indices]"
   ]
  },
  {
   "cell_type": "code",
   "execution_count": null,
   "metadata": {
    "collapsed": false,
    "scrolled": false
   },
   "outputs": [],
   "source": [
    "idx_w_quality = vcat(indices,12)\n",
    "corrplot(M[:, idx_w_quality], size = (1200,1200), labels = vcat(nms,:quality)')"
   ]
  },
  {
   "cell_type": "code",
   "execution_count": null,
   "metadata": {
    "collapsed": false,
    "scrolled": false
   },
   "outputs": [],
   "source": [
    "# notes: grouping by string labels, dataframe column names for data, separate opacities\n",
    "quality = ASCIIString[\n",
    "    if q > 7\n",
    "        \"High Quality\"\n",
    "    elseif q < 5\n",
    "        \"Low Quality\"\n",
    "    else\n",
    "        \" Tastes like wine...\"\n",
    "    end for q in df[:quality]\n",
    "]\n",
    "\n",
    "# fields = (:citric_acid, :alcohol)\n",
    "fields = nms[[1,6]]\n",
    "default(xlab=fields[1], ylab=fields[2])\n",
    "\n",
    "scatter(df, fields..., group=quality, m=[2 3 3], w=0, smooth=true, opacity=[0.1 1 1])\n",
    "\n",
    "# plot!(xlim=(.985,1.005),ylim=(7,15))\n",
    "# plot!(xlab=fields[1], ylab=fields[2])\n",
    "# gui()"
   ]
  },
  {
   "cell_type": "code",
   "execution_count": null,
   "metadata": {
    "collapsed": false
   },
   "outputs": [],
   "source": [
    "default(grid=false, leg=false)\n",
    "\n",
    "subplot(df, fields...,\n",
    "    group = quality,\n",
    "    marker = 3,\n",
    "    line = (:scatter,0), \n",
    "    smooth = true,\n",
    "    opacity = [0.05 1 1],\n",
    "    title = sort(unique(quality))',\n",
    "    n = 3, nr = 1,\n",
    "    size = (1000,400),\n",
    "    linky = true\n",
    ")"
   ]
  },
  {
   "cell_type": "code",
   "execution_count": null,
   "metadata": {
    "collapsed": false,
    "scrolled": false
   },
   "outputs": [],
   "source": [
    "sp = subplot(df, fields...,\n",
    "    group = :quality,\n",
    "    line = (:hexbin, ColorGradient(:heat,[0,0.01,1])),\n",
    "    n = 7, nr = 1, \n",
    "    title = map(i->\"Quality: $i\", (3:9)'),\n",
    "    size = (1200,300),\n",
    "    linky = true\n",
    ")\n",
    "\n",
    "# sp.o.fig[:subplots_adjust](wspace=.6); sp"
   ]
  },
  {
   "cell_type": "code",
   "execution_count": null,
   "metadata": {
    "collapsed": true
   },
   "outputs": [],
   "source": []
  },
  {
   "cell_type": "code",
   "execution_count": null,
   "metadata": {
    "collapsed": true
   },
   "outputs": [],
   "source": []
  },
  {
   "cell_type": "code",
   "execution_count": null,
   "metadata": {
    "collapsed": true
   },
   "outputs": [],
   "source": []
  },
  {
   "cell_type": "code",
   "execution_count": null,
   "metadata": {
    "collapsed": false
   },
   "outputs": [],
   "source": [
    "scatter(df, :density, :quality, smooth=true, m=(1,0.01), xlim=(0.99,1))"
   ]
  },
  {
   "cell_type": "code",
   "execution_count": null,
   "metadata": {
    "collapsed": true
   },
   "outputs": [],
   "source": []
  }
 ],
 "metadata": {
  "kernelspec": {
   "display_name": "Julia 0.4.0",
   "language": "julia",
   "name": "julia-0.4"
  },
  "language_info": {
   "file_extension": ".jl",
   "mimetype": "application/julia",
   "name": "julia",
   "version": "0.4.0"
  }
 },
 "nbformat": 4,
 "nbformat_minor": 0
}
